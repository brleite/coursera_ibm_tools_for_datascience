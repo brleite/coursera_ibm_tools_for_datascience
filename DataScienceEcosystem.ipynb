{
 "cells": [
  {
   "cell_type": "markdown",
   "id": "b38665c9-9957-4f08-ac96-d2643adde0cb",
   "metadata": {
    "tags": []
   },
   "source": [
    "Exercise 2"
   ]
  },
  {
   "cell_type": "markdown",
   "id": "fa27cfda-db0c-4b61-99e4-14e374de48e2",
   "metadata": {},
   "source": [
    "# Data Science Tools and Ecosystem"
   ]
  },
  {
   "cell_type": "markdown",
   "id": "118ce521-7adc-44e3-b743-bb1daf171c19",
   "metadata": {},
   "source": [
    "Exercise 3"
   ]
  },
  {
   "cell_type": "markdown",
   "id": "efefcdff-3770-4a94-9428-40427b02e4da",
   "metadata": {},
   "source": [
    "In this notebook, Data Science Tools and Ecosystem are summarized."
   ]
  },
  {
   "cell_type": "markdown",
   "id": "c6ba93c3-09be-4872-8ae2-dc0432443817",
   "metadata": {},
   "source": [
    "Exercise 10"
   ]
  },
  {
   "cell_type": "markdown",
   "id": "997cecde-bc28-4da9-806e-01701b3a03d9",
   "metadata": {},
   "source": [
    "**Objectives:**\n",
    "- List popular languages for Data Science\n",
    "- List Data Science libraries\n",
    "- List Data Science tools\n",
    "- Show arithmetic expression examples"
   ]
  },
  {
   "cell_type": "markdown",
   "id": "dec56af5-1671-4a7c-926a-149aed18465d",
   "metadata": {},
   "source": [
    "Exercise 4"
   ]
  },
  {
   "cell_type": "markdown",
   "id": "0785935a-9c04-48f2-b792-81fe04fcb5d0",
   "metadata": {},
   "source": [
    "Some of the popular languages that Data Scientists use are:\n",
    "1. Python\n",
    "2. R\n"
   ]
  },
  {
   "cell_type": "markdown",
   "id": "22bb5427-226c-4a5e-a6b5-e70386156364",
   "metadata": {},
   "source": [
    "Exercise 5\n"
   ]
  },
  {
   "cell_type": "markdown",
   "id": "b5b98973-8519-45ad-8c18-31594555ae66",
   "metadata": {},
   "source": [
    "Some of the commonly used libraries used by Data Scientists include:\n",
    "1. Pandas\n",
    "2. NumPy\n",
    "3. Scikit-learn\n",
    "4. Seaborn"
   ]
  },
  {
   "cell_type": "markdown",
   "id": "71baa1b0-8693-410d-9d0e-bce0a4ac1be6",
   "metadata": {},
   "source": [
    "Exercise 6"
   ]
  },
  {
   "cell_type": "markdown",
   "id": "cce7c35c-95dd-4dd7-a37a-66fb140ccb0e",
   "metadata": {
    "tags": []
   },
   "source": [
    "| Data Science Tools |\n",
    "| --- |\n",
    "| Jupyter Notebooks |\n",
    "| R Studio |\n",
    "| Apache Zeppelin |"
   ]
  },
  {
   "cell_type": "markdown",
   "id": "eeb0f5e3-a31d-4389-b968-caaf3953ae9d",
   "metadata": {},
   "source": [
    "Exercise 7"
   ]
  },
  {
   "cell_type": "markdown",
   "id": "2308271c-dce6-4d4b-a50f-a86b52a68ba4",
   "metadata": {},
   "source": [
    "### Below are a few examples of evaluating arithmetic expressions in Python"
   ]
  },
  {
   "cell_type": "markdown",
   "id": "77b8de6d-de3c-4b42-9ac7-4b2c89bd49c8",
   "metadata": {},
   "source": [
    "Exercise 8"
   ]
  },
  {
   "cell_type": "code",
   "execution_count": 3,
   "id": "df6d4c9b-f26d-4e69-8c6b-ba7277746663",
   "metadata": {
    "tags": []
   },
   "outputs": [
    {
     "data": {
      "text/plain": [
       "17"
      ]
     },
     "execution_count": 3,
     "metadata": {},
     "output_type": "execute_result"
    }
   ],
   "source": [
    "# This a simple arithmetic expression to mutiply then add integers\n",
    "(3*4)+5"
   ]
  },
  {
   "cell_type": "markdown",
   "id": "e834342d-7de2-408f-9647-0d1fefc45bf1",
   "metadata": {},
   "source": [
    "Exercise 9"
   ]
  },
  {
   "cell_type": "code",
   "execution_count": 4,
   "id": "a801a195-ab74-44eb-b959-d7807325a246",
   "metadata": {
    "tags": []
   },
   "outputs": [
    {
     "data": {
      "text/plain": [
       "3.3333333333333335"
      ]
     },
     "execution_count": 4,
     "metadata": {},
     "output_type": "execute_result"
    }
   ],
   "source": [
    "# This will convert 200 minutes to hours by diving by 60\n",
    "200 / 60"
   ]
  },
  {
   "cell_type": "markdown",
   "id": "0c1bced5-0da0-455c-ad35-85e4b13143bd",
   "metadata": {
    "tags": []
   },
   "source": [
    "Exercise 11"
   ]
  },
  {
   "cell_type": "markdown",
   "id": "78723f0e-8b4f-4046-adc6-311815be25ec",
   "metadata": {
    "tags": []
   },
   "source": [
    "## Author\n",
    "Bruno Mayerle Leite"
   ]
  },
  {
   "cell_type": "code",
   "execution_count": null,
   "id": "eb704b2a-28b3-4cbe-8113-7d0a550105c9",
   "metadata": {},
   "outputs": [],
   "source": []
  }
 ],
 "metadata": {
  "kernelspec": {
   "display_name": "Python",
   "language": "python",
   "name": "conda-env-python-py"
  },
  "language_info": {
   "codemirror_mode": {
    "name": "ipython",
    "version": 3
   },
   "file_extension": ".py",
   "mimetype": "text/x-python",
   "name": "python",
   "nbconvert_exporter": "python",
   "pygments_lexer": "ipython3",
   "version": "3.7.12"
  }
 },
 "nbformat": 4,
 "nbformat_minor": 5
}
